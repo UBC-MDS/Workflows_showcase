{
 "cells": [
  {
   "cell_type": "code",
   "execution_count": 52,
   "metadata": {
    "jupyter": {
     "source_hidden": true
    }
   },
   "outputs": [],
   "source": [
    "import pickle\n",
    "import sys\n",
    "import pandas as pd\n",
    "sys.path.insert(1, '../src')\n",
    "import matplotlib.pyplot as plt\n",
    "from character_utils import *"
   ]
  },
  {
   "cell_type": "markdown",
   "metadata": {},
   "source": [
    "# Predicting comic book character alignments from traits\n",
    "This report presents the key exploratory data analysis, demonstrates the important statistical models used to predict the alignments (Good, Bad, or Neutral) of comic book characters. "
   ]
  },
  {
   "cell_type": "markdown",
   "metadata": {},
   "source": [
    "## Introduction\n",
    "\n",
    "When you look at a new comic book character, do you naturally assume good or evil based on that character's traits? Are most of the characters with green faces, or red eyes likely to be evil? These questions lead us to think about how we can predict whether a character is good, bad or neutral. In this report, we are going to study some of the key features of [comic book characters](https://github.com/rudeboybert/fivethirtyeight/tree/master/data-raw/comic-characters) from [Marvel Wikia](https://marvel.fandom.com/wiki/Marvel_Database) and [DC Wikia](https://dc.fandom.com/wiki/DC_Comics_Database), and construct statistical models to predict the character alignments."
   ]
  },
  {
   "cell_type": "markdown",
   "metadata": {},
   "source": [
    "## Research Question\n",
    ">What are the most important features in determining a comic book characters' alignment?"
   ]
  },
  {
   "cell_type": "markdown",
   "metadata": {},
   "source": [
    "## Data Overview\n",
    "\n",
    "Each observation in the data set is a comic book character and their corresponding biographical features given in detail by the Table 1 below.\n",
    "\n",
    "**Table 1: Dataset Feature Description**  \n",
    "\n",
    "| Features   |      Definition      |Type|\n",
    "|-----:-----|--:--|---:---|\n",
    "| name |  The name of the character |categorical|\n",
    "| id |   The identity status of the character (Secret Identity, Public identity, [on marvel only: No Dual Identity])  | categorical|\n",
    "| align | If the character is Good, Bad or Neutral | target|\n",
    "| eye | Eye color of the character | categorical|\n",
    "| hair| Hair color of the character | categorical|\n",
    "| sex | Sex of the character| categorical |\n",
    "| gsm | If the character is a gender or sexual minority (e.g. Homosexual characters, bisexual characters) | categorical|\n",
    "| appearances | The number of appareances of the character in comic books | numerical|\n",
    "| first_appearance\t| The month and year of the character's first appearance in a comic book, if available | categorical|\n",
    "| year | The year of the character's first appearance in a comic book, if available | categorical, ordinal|\n",
    "| publisher | The publisher of the character (dc or marvel in our case)|categorical|"
   ]
  },
  {
   "cell_type": "markdown",
   "metadata": {},
   "source": [
    "### How does character alignment change over time?\n"
   ]
  },
  {
   "cell_type": "markdown",
   "metadata": {},
   "source": [
    "\n",
    "Figure 2 displays how character alignment changes over time. One observation is that all the alignments seem to move in the same direction as time passed, but to different extents. The majority of the characters created from 1935 to 2013 are villains for most years. Another interesting finding is that we have noticeable amount of null alignments in our data. It would be misleading to replace the missing values with any classes, and therefore, we decided to split those without alignments out as deployment data set. The alignments will then be predicted using our best selected model.\n",
    "\n",
    "**Figure 2: Alignment of New Created Characters over Time**  \n",
    "\n",
    "![image](../results/figures/alignment_over_time.png)"
   ]
  },
  {
   "cell_type": "markdown",
   "metadata": {},
   "source": [
    "### Deal with Missing Values\n",
    "\n",
    "Before applying any models to train these raw features, one essential step is to investigate whether our dataset contains features with a large proportion of missing values. Within the dataset, there are 13 different features and total 23,272 comic book characters. The percentage of missing cells is a bit high and around 21%. Since a considerable amount of the raw data contains missing values, this prompted a deeper investigation into each feature. Table 3 below describes the summary statistics for each one in the source data. \n",
    "\n",
    "\n",
    "**Table 3: Dataset Feature Overview** "
   ]
  },
  {
   "cell_type": "markdown",
   "metadata": {},
   "source": [
    "![Image](../results/figures/feature_overview.png)"
   ]
  },
  {
   "cell_type": "markdown",
   "metadata": {},
   "source": [
    "For the `gsm`(_gender sexual minority_), we found that the data was too sparse to be of much value and decided to drop it to reduce unnecessary dimensions. Considering `first_appearance` is highly correlated with `appearance` feature, `appearance` was determined to be kept in this project, and a scaler was applied to normalize the values.\n",
    "\n",
    "#### Other Feature Transformation and Encoding\n",
    "\n",
    "To handle null feature values, we imputed the features with small null value proportions with the median for the numeric columns and the most frequent value for the categorical features. \n",
    "\n",
    "The imputation step produced a higher validation accuracy score of approximately 1-2% across all models. This higher score was greater than 2 standard deviations of the test score for each trial (with imputed and with null), so we felt comfortable moving forward with imputed values as opposed to dropping null values for the columns chosen.\n",
    "\n",
    "The next steps to improve the model through feature transformation and encoding will be more aggressive feature engineering to create more powerful features. The key will be to use our intuition to use what we know of the comic book industry and cultural trends in general to select key features."
   ]
  },
  {
   "cell_type": "markdown",
   "metadata": {},
   "source": [
    "### Feature Engineering\n",
    "\n",
    "From our feature importance research, `name` makes up the 35 - 16000 most important features. When we drop `name` we go from 15951 features to 64. We realized there may be some valuable information `name` but this information was not being captured by one-hot encoding as it was taking each name and turning it into a unique variable. This belief was supplemented as when we dropped `name` as a categorical variable, accuracy was virtually unchanged (< than a 1% change). Examining the data and thinking about what information in `name` would be useful and how we could capture that in feature engineering, we thought that characters with longer names (i.e. Baron von Widemouth) would be more likely to be evil, so we created a numeric feature `name_len`. Every name also had a universe attached to it (i.e. `Earth 616`). Given that there were only two universes, which seemed to correspond to each of our two publishers (`DC` and `Marvel`), we thought this information was redundant, and therefore we cut it before creating `name_len`. \n",
    "\n",
    "\n",
    "We also thought that characters without last names were more likely to be `bad` so we created a boolean feature `has_last_name`. Additionally from our experience reading comics we thought that characters that had common American names would be more likely to be good or neutral (i.e. Peter Parker (alias Spiderman) and Steve Rogers (alias Captain America). In order to determine whether a name was common, we used the Name Census from the United States Demographic Data to determine what a common name was. We incorporated this as a boolean feature `is_common`.\n",
    "\n",
    "The following table concludes our feature engineering outcomes. \n",
    "\n",
    "**Table 4: Feature Engineering Outcomes**\n",
    "\n",
    "| New Features   |      Definition      |Type|\n",
    "|-----:-----|--:--|---:---|\n",
    "| is_common |  Whether the first name is common |boolean|\n",
    "| name_len |  Number of characters in first and last name | numerical |\n",
    "| has_last_name | Whether the character has a last name | boolean|\n",
    "| appear_per_yr | The number of appearances per year since characters creation | numerical|"
   ]
  },
  {
   "cell_type": "markdown",
   "metadata": {},
   "source": [
    "## Modeling"
   ]
  },
  {
   "cell_type": "markdown",
   "metadata": {},
   "source": [
    "### Model Choice Overview\n",
    "\n",
    "During the analysis phase, a number of different classification models were trained to predict the characters output alignment. The fit time, score time, train score and validation score were collected for each model under their default hyperparameters and shown in Table 5. Random Forest Classifier had a comparable validation score and it performed faster. Given this result, the RandomForestClassifier model was chosen for further optimization through hyperparameter tuning.\n",
    "\n",
    "**Table 5: Model Comparison Summary**  "
   ]
  },
  {
   "cell_type": "markdown",
   "metadata": {},
   "source": [
    "![image](../results/figures/model_type_comparison.png)"
   ]
  },
  {
   "cell_type": "markdown",
   "metadata": {},
   "source": [
    "In addition, we applied other tree-based models, such as XGB Classifier, LBGM Classifier, and CatBoostClassifier, and selected the best model based on high validation score and fast model training speed. As indicated in Table 6, LGBM Classifier performed the best among all. Therefore, we continued hyperparameter tuning on LGBM Classifier to improve the model performance.\n",
    "\n",
    "**Table 6: Tree-based Model Performance Comparison**"
   ]
  },
  {
   "cell_type": "markdown",
   "metadata": {},
   "source": [
    "![image](../results/figures/forest_model_comparison.png)"
   ]
  },
  {
   "cell_type": "markdown",
   "metadata": {},
   "source": [
    "### Hyperparameter Optimization\n",
    "\n",
    "After tuning our hyperparameters, the best performing model is collected by RandomSearchCV with 20 iterations, and 5 cross validation folds. Table 7 summarizes the selected optimized hyperparameters for LGBM Classifier. The validation score increases to 0.707, which is a noticeable improvement compared to 0.612 (in Table 6). \n",
    "\n",
    "**Table 7: Optimized Hyperparameters for LGBM Classifier**  "
   ]
  },
  {
   "cell_type": "code",
   "execution_count": 93,
   "metadata": {
    "jupyter": {
     "source_hidden": true
    }
   },
   "outputs": [
    {
     "data": {
      "image/png": "[encoded data removed]",
      "text/plain": [
       "<Figure size 1440x315 with 1 Axes>"
      ]
     },
     "metadata": {
      "needs_background": "light"
     },
     "output_type": "display_data"
    }
   ],
   "source": [
    "optimized_model_df = (pickle.load(open(\"../results/tables/polarized_optimized_model.pkl\", \"rb\"))).loc[0, :]\n",
    "\n",
    "pd.options.display.float_format = '{:.3f}'.format\n",
    "rf_model = pd.DataFrame(optimized_model_df)\n",
    "rf_model = rf_model[~rf_model.index.str.contains('split')].reset_index()\n",
    "rf_model.columns = [\"Metric\", \"Value\"]\n",
    "filter_list = ['mean_train_score', 'mean_test_score', 'param_best_model__n_estimators',\n",
    "              'param_best_model__max_depth', 'param_best_model__subsample', \n",
    "              'param_best_model__num_leaves', 'param_best_model__leaning_rate']\n",
    "rf_model = rf_model[rf_model['Metric'].isin(filter_list)]\n",
    "rf_model['Value'] = rf_model['Value'].apply(lambda x: round(x, 3))\n",
    "render_table(rf_model, header_columns=0, col_width=10);"
   ]
  },
  {
   "cell_type": "markdown",
   "metadata": {},
   "source": [
    "## Presenting and Interpreting Key Findings"
   ]
  },
  {
   "cell_type": "markdown",
   "metadata": {},
   "source": [
    "## Feature Importance\n",
    "\n",
    "We used feature importance to interpret our model. The ordered list of features with respect to importance for the best LGBM Classifier model is found by fitting on training data set. Table 8 indicates that the most significant feature is `year`, which is the year of the character's first appearance in a comic book. The larger the importance coefficients are, the closer the feature is to the root (top) of the LGBM Classifier tree. The numerical features are comparably important as indicated at the top of the feature importance summary. Other noticeable features in predicting the character alignment include but not limited to characters with blue eyes and black hair. "
   ]
  },
  {
   "cell_type": "markdown",
   "metadata": {},
   "source": [
    "**Table 8: Feature Importance Summary** \n",
    "\n",
    "![image](../results/figures/importance.png)"
   ]
  },
  {
   "cell_type": "markdown",
   "metadata": {},
   "source": [
    "### More Discussions on Feature Importance\n",
    "\n",
    "Looking further at our feature importances, we thought we could apply more feature engineering. Given that `year` and `appearances` are by far the most impactful features but we realized in their current form they could be improved. As some group members have extensive experience reading comic books, we tried to apply our domain expertise to this problem. One idea we had is characters with a `good` alignment should have more appearances compared to those with `neutral` or `bad` because these heroes (i.e. `good` alignment) are the protagonists of their storylines! However one acception to this rule would be that heroes that have been around for a while would have nemesises (i.e. `bad` alignment) that would have appearances that based on this theory of `appearances = good alignment` the model might incorrectly classify as `good`. For instance, Spiderman was created in 1962 and one of his main nemesises, Doctor Octopus, was created in 1963. With this in mind, the number of appearances by Doctor Octopus would dwarf those of a hero created in later years (i.e. Spider-Woman debuted in 1998). Our idea to capture this information properly was a new feature, `appearances_per_year` (created by `appearances / years since inception`)."
   ]
  },
  {
   "cell_type": "markdown",
   "metadata": {},
   "source": [
    "## Conclusion: Assessment on Classification Methods\n",
    "\n",
    "When looking at our confusion matrix for three class classification (Good, Neutral, and Bad)  we notice that our model was generating the highest number of false negatives when predicting Neutral. Given this, we decided to drop the Neutral values and test this model on a two class classification problem (Good and Bad) and our accuracy increased from 71.6% to 74.8%. What was especially interesting is when comparing the model trained on three classes versus the model trained on two for this two class classification problem, the model trained on three classes performed better.\n",
    "\n",
    "**Figure 9: Confusion Matrix for Prediction Performance Summary**\n",
    "\n",
    "![image](../results/figures/confusion_matrix.png)"
   ]
  },
  {
   "cell_type": "markdown",
   "metadata": {},
   "source": [
    "## Limitations\n",
    "\n",
    "The limited number of features from the comic book character data set have so far not been as significant in predicting the character alignment as one might expect. One of the issues is the relative lack of feature diversity within the dataset as spelled out by the [original analysis article](https://github.com/rudeboybert/fivethirtyeight/tree/master/data-raw/comic-characters). Because so many of the characters are so culturally homogenous the feature traits seem to map fairly evenly to all alignments."
   ]
  },
  {
   "cell_type": "markdown",
   "metadata": {},
   "source": [
    "## Future Direction\n",
    "\n",
    "- A more effective visualization (such as bar chart) could be helpful to demonstrate the comparison among different models.\n"
   ]
  },
  {
   "cell_type": "markdown",
   "metadata": {},
   "source": [
    "## References"
   ]
  },
  {
   "cell_type": "markdown",
   "metadata": {},
   "source": [
    "1. [Comic Book Characters](https://github.com/rudeboybert/fivethirtyeight/tree/master/data-raw/comic-characters) \n",
    "<!-- #endregion -->\n",
    "\n",
    "2. [Sample Group Project](https://github.com/ttimbers/breast_cancer_predictor)\n",
    "\n",
    "3. [Render Table Sample](https://stackoverflow.com/questions/19726663/how-to-save-the-pandas-dataframe-series-data-as-a-figure)\n",
    "\n",
    "4. [Name Census: United States Demographic Data](https://namecensus.com)\n",
    "\n",
    "Packages and dependencies:\n",
    "- To reproduce, please see dependencies in [environment file](https://github.com/UBC-MDS/Workflows_showcase/blob/main/env/env.yaml)."
   ]
  }
 ],
 "metadata": {
  "kernelspec": {
   "display_name": "Python [conda env:531]",
   "language": "python",
   "name": "conda-env-531-py"
  },
  "language_info": {
   "codemirror_mode": {
    "name": "ipython",
    "version": 3
   },
   "file_extension": ".py",
   "mimetype": "text/x-python",
   "name": "python",
   "nbconvert_exporter": "python",
   "pygments_lexer": "ipython3",
   "version": "3.8.6"
  }
 },
 "nbformat": 4,
 "nbformat_minor": 4
}
