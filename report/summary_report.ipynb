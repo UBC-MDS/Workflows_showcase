{
 "cells": [
  {
   "cell_type": "code",
   "execution_count": 1,
   "metadata": {},
   "outputs": [],
   "source": [
    "import pickle\n",
    "import sys\n",
    "import pandas as pd\n",
    "sys.path.insert(1, '../src')\n",
    "import matplotlib.pyplot as plt\n",
    "from character_utils import *"
   ]
  },
  {
   "cell_type": "markdown",
   "metadata": {},
   "source": [
    "# Predicting comic book character alignments from traits\n",
    "This report presents the key exploratory data analysis, demonstrates the important statistical models used to predict the alignments (Good, Bad, or Neutral) of comic book characters. "
   ]
  },
  {
   "cell_type": "markdown",
   "metadata": {},
   "source": [
    "## Introduction\n",
    "\n",
    "When you look at a new comic book character, do you naturally assume good or evil based on that character's traits? Are most of the characters with green faces, or red eyes likely to be evil? These questions lead us to think about how we can predict whether a character is good, bad or neutral. In this report, we are going to study some of the key features of [comic book characters](https://github.com/rudeboybert/fivethirtyeight/tree/master/data-raw/comic-characters) from [Marvel Wikia](https://marvel.fandom.com/wiki/Marvel_Database) and [DC Wikia](https://dc.fandom.com/wiki/DC_Comics_Database), and construct statistical models to predict the character alignments."
   ]
  },
  {
   "cell_type": "markdown",
   "metadata": {},
   "source": [
    "## Research Question\n",
    ">What are the most important features in determining a comic book characters' alignment?"
   ]
  },
  {
   "cell_type": "markdown",
   "metadata": {},
   "source": [
    "## Data Overview\n",
    "\n",
    "Each observation in the data set is a comic book character and their corresponding biographical features given in detail by the Table 1 below.\n",
    "\n",
    "**Table 1: Dataset Feature Description**  \n",
    "\n",
    "| Features   |      Definition      |Type|\n",
    "|-----:-----|--:--|---:---|\n",
    "| name |  The name of the character |categorical|\n",
    "| id |   The identity status of the character (Secret Identity, Public identity, [on marvel only: No Dual Identity])  | categorical|\n",
    "| align | If the character is Good, Bad or Neutral | target|\n",
    "| eye | Eye color of the character | categorical|\n",
    "| hair| Hair color of the character | categorical|\n",
    "| sex | Sex of the character| categorical |\n",
    "| gsm | If the character is a gender or sexual minority (e.g. Homosexual characters, bisexual characters) | categorical|\n",
    "| appearances | The number of appareances of the character in comic books | numerical|\n",
    "| first_appearance\t| The month and year of the character's first appearance in a comic book, if available | categorical|\n",
    "| year | The year of the character's first appearance in a comic book, if available | categorical, ordinal|\n",
    "| publisher | The publisher of the character (dc or marvel in our case)|categorical|"
   ]
  },
  {
   "cell_type": "markdown",
   "metadata": {},
   "source": [
    "#### How does character alignment change over time?\n",
    "\n",
    "**Figure 1: Alignment of New Created Characters over Time**  \n",
    "\n",
    "![Alignment Over Time](../results/figures/alignment_over_time.png)"
   ]
  },
  {
   "cell_type": "markdown",
   "metadata": {},
   "source": [
    "\n",
    "One observation is that all the alignments seem to move in the same direction over time, but to different extents. The majority of the characters created from 1935 to 2013 are villains for most years. Another interesting finding is that we have noticeable amount of null alignments in our data. It would be misleading to replace the missing values with any classes, and therefore, we decided to split those without alignments out as deployment data set. The alignments will then be predicted using our best selected model."
   ]
  },
  {
   "cell_type": "markdown",
   "metadata": {},
   "source": [
    "#### Deal with missing values\n",
    "\n",
    "Before applying any models to train these raw features, one essential step is to investigate whether our dataset contains features with a large proportion of missing values. Within the dataset, there are 13 different features and total 23272 comic book characters. The percentage of missing cells is a bit high and around 21%. Table 2 below describes the summary statistics regarding our data set. Since a considerable amount of the raw data contains missing values, this prompted a deeper investigation into each feature. Below in Table 2, we investigate each feature separately which showcases the count of unique observations and missing value percentage for each feature. The feature gsm(sexual minority) has the largest missing percentage which is around 99%, so we will drop this feature. Also, every observation in name is unique, it would be good to add different features concerning name.\n",
    "\n",
    "**Table 2: Dataset Feature Overview** "
   ]
  },
  {
   "cell_type": "markdown",
   "metadata": {},
   "source": [
    "![image](../results/figures/feature_overview.png)"
   ]
  },
  {
   "cell_type": "code",
   "execution_count": null,
   "metadata": {},
   "outputs": [],
   "source": []
  },
  {
   "cell_type": "markdown",
   "metadata": {},
   "source": [
    "## Presenting and Interpreting Key Findings"
   ]
  },
  {
   "cell_type": "markdown",
   "metadata": {},
   "source": [
    "**Figure 1: Model Comparison Summary**  "
   ]
  },
  {
   "cell_type": "code",
   "execution_count": 2,
   "metadata": {},
   "outputs": [
    {
     "ename": "FileNotFoundError",
     "evalue": "[Errno 2] No such file or directory: '../results/tables/model_comparison.pkl'",
     "output_type": "error",
     "traceback": [
      "\u001b[1;31m---------------------------------------------------------------------------\u001b[0m",
      "\u001b[1;31mFileNotFoundError\u001b[0m                         Traceback (most recent call last)",
      "\u001b[1;32m<ipython-input-2-69c3e17a0bf2>\u001b[0m in \u001b[0;36m<module>\u001b[1;34m\u001b[0m\n\u001b[1;32m----> 1\u001b[1;33m \u001b[0mmodel_comparison_df\u001b[0m \u001b[1;33m=\u001b[0m \u001b[0mpickle\u001b[0m\u001b[1;33m.\u001b[0m\u001b[0mload\u001b[0m\u001b[1;33m(\u001b[0m\u001b[0mopen\u001b[0m\u001b[1;33m(\u001b[0m\u001b[1;34m\"../results/tables/model_comparison.pkl\"\u001b[0m\u001b[1;33m,\u001b[0m \u001b[1;34m\"rb\"\u001b[0m\u001b[1;33m)\u001b[0m\u001b[1;33m)\u001b[0m\u001b[1;33m\u001b[0m\u001b[1;33m\u001b[0m\u001b[0m\n\u001b[0m\u001b[0;32m      2\u001b[0m \u001b[0mrender_table\u001b[0m\u001b[1;33m(\u001b[0m\u001b[0mmodel_comparison_df\u001b[0m\u001b[1;33m,\u001b[0m \u001b[0mheader_columns\u001b[0m\u001b[1;33m=\u001b[0m\u001b[1;36m0\u001b[0m\u001b[1;33m,\u001b[0m \u001b[0mcol_width\u001b[0m\u001b[1;33m=\u001b[0m\u001b[1;36m4\u001b[0m\u001b[1;33m)\u001b[0m\u001b[1;33m;\u001b[0m\u001b[1;33m\u001b[0m\u001b[1;33m\u001b[0m\u001b[0m\n",
      "\u001b[1;31mFileNotFoundError\u001b[0m: [Errno 2] No such file or directory: '../results/tables/model_comparison.pkl'"
     ]
    }
   ],
   "source": [
    "model_comparison_df = pickle.load(open(\"../results/tables/model_comparison.pkl\", \"rb\"))\n",
    "render_table(model_comparison_df, header_columns=0, col_width=4);"
   ]
  },
  {
   "cell_type": "markdown",
   "metadata": {},
   "source": [
    "### Model Choice Overview\n",
    "\n",
    "During the analysis phase, a number of different classification models were trained to predict the characters output alignment, and a model using the Random Forest Classification methodology was found to score the highest mean validation accuracy of .589 with over a 95% confidence interval compared to other model scores. Given this result, the RandomForestClassifier model will be the model chosen for further optimization through hyperparameter tuning.\n",
    "\n",
    "\n",
    "### Feature Transformation and Encoding\n",
    "\n",
    "To handle null feature values, we imputed the features with small null value proportions with the median for the numeric columns and the most frequent value for the categorical features. For the `gsm` and `first_appearance` features, we found that the data was too sparse to be of much value and decided to drop them to reduce unnecessary dimensions. The imputation step produced a higher validation accuracy score of approximately 1-2% across all models. This higher score was greater than 2 standard deviations of the test score for each trial (with imputed and with null), so we felt comfortable moving forward with imputed values as opposed to dropping null values for the columns chosen.\n",
    "\n",
    "For the lone numerical feature, `appearances`, a scaler was applied to normalize the values.\n",
    "\n",
    "The next steps to improve the model through feature transformation and encoding will be more aggressive feature engineering to create more powerful features. The key will be to use our intuition to use what we know of the comic book industry and cultural trends in general to select key features. Some areas of interest might be to transform `appearances` feature into a weighting modifier, and to bin the year values into discrete decades.\n"
   ]
  },
  {
   "cell_type": "markdown",
   "metadata": {},
   "source": [
    "**Figure 2: Optimized Model Performance**  "
   ]
  },
  {
   "cell_type": "code",
   "execution_count": null,
   "metadata": {},
   "outputs": [],
   "source": [
    "optimized_model_df = (pickle.load(open(\"../results/tables/optimized_model.pkl\", \"rb\"))).loc[0, :]\n",
    "\n",
    "pd.options.display.float_format = '{:.3f}'.format\n",
    "rf_model = pd.DataFrame(optimized_model_df)\n",
    "rf_model = rf_model[~rf_model.index.str.contains('split')].reset_index()\n",
    "rf_model.columns = [\"Metric\", \"Value\"]\n",
    "render_table(rf_model, header_columns=0, col_width=8);"
   ]
  },
  {
   "cell_type": "markdown",
   "metadata": {},
   "source": [
    "## Optimized Model Performance\n",
    "\n",
    "Figure 2 above reports the results obtained with the best model created to date. At the moment the optimized model use Random Forest Classification with an optimized hyperparameter `max_depth` value of $5.56\\times10^7$ to predict the alignment of characters given their traits. The best model to date has a prediction accuracy of .589 in comparison to the baseline dummy classifier score of .391 using a most frequent target class value strategy. Further improvements to feature engineering, encoding, and hyperparameter optimization are necessary to improve model performance."
   ]
  },
  {
   "cell_type": "markdown",
   "metadata": {},
   "source": [
    "## Feature Importances\n",
    "The ordered list of features with respect to importances for the best Random Forest Classifier model is found by fitting on `X_train` set. From resulting importance coefficiens for `eye` feature, the most important eye colors are `Blue` and `Black` in determining the alignment of comic book characters. The whole ordered list can be found below.\n",
    "\n",
    "**Table 4: Importance of Eye Feature** \n",
    "\n",
    "![image](../results/figures/importance_of_eye.png)"
   ]
  },
  {
   "cell_type": "markdown",
   "metadata": {},
   "source": [
    "From resulting importance coefficiens for `hair` feature, the most important hair colors is `Black` in determining the alignment of comic book characters. The whole ordered list can be found below.\n",
    "\n",
    "**Table 5: Importance of Hair Feature** \n",
    "\n",
    "![image](../results/figures/importance_of_hair.png)"
   ]
  },
  {
   "cell_type": "markdown",
   "metadata": {},
   "source": [
    "From resulting importance coefficiens for `id` (identity) feature, the most important identity is `Secret Identity` with distinct advantage to other classes in determining the alignment of comic book characters. The whole ordered list can be found below.\n",
    "\n",
    "**Table 6: Importance of Identity Feature** \n",
    "\n",
    "![image](../results/figures/importance_of_id.png)"
   ]
  },
  {
   "cell_type": "markdown",
   "metadata": {},
   "source": [
    "From resulting importance coefficiens for `sex` feature, there is not much of a difference between `Female` and `Male` characters importance in determining the alignment of comic book characters. The whole ordered list can be found below.\n",
    "\n",
    "**Table 7: Importance of Sex Feature** \n",
    "\n",
    "![image](../results/figures/importance_of_sex.png)"
   ]
  },
  {
   "cell_type": "markdown",
   "metadata": {},
   "source": [
    "From resulting importance coefficiens for `publisher` feature, there is not much of a difference between `dc` and `marvel`'s importance in determining the alignment of comic book characters. The whole ordered list can be found below.\n",
    "\n",
    "**Table 8: Importance of Publisher Feature** \n",
    "\n",
    "![image](../results/figures/importance_of_publisher.png)"
   ]
  },
  {
   "cell_type": "markdown",
   "metadata": {},
   "source": [
    "## Limitations\n",
    "\n",
    "The limited number of features from the comic book character data set have so far not been as significant in predicting the character alignment as one might expect. One of the issues is the relative lack of feature diversity within the dataset as spelled out by the [original analysis article](https://github.com/rudeboybert/fivethirtyeight/tree/master/data-raw/comic-characters). Because so many of the characters are so culturally homogenous the feature traits seem to map fairly evenly to all alignments."
   ]
  },
  {
   "cell_type": "markdown",
   "metadata": {},
   "source": [
    "## Future Directions\n",
    "- Provide more descriptive EDA with greater resolution into how the character counts changes over time for each alignment by using stacked area chart as opposed to line chart. It will show us how the character count for each alignment changes compared to all characters.\n",
    "- Feature engineering using human knowledge and intuition to create more powerful features. Use machine learning feature elimination techniques and reporting to determine how effective the features currently available are and provide a feedback mechanism to iteratively improve feature creation.\n",
    "- With a model selected, hone in on more powerful (and time intensive) hyperparameter tuning techniques specific to the question and model at hand.\n",
    "- Use a superior model on the test and deployment set to confirm results."
   ]
  },
  {
   "cell_type": "markdown",
   "metadata": {},
   "source": [
    "## References"
   ]
  },
  {
   "cell_type": "markdown",
   "metadata": {},
   "source": [
    "[Source Data: Comic Book Characters](https://github.com/rudeboybert/fivethirtyeight/tree/master/data-raw/comic-characters) \n",
    "\n",
    "Packages and dependencies:\n",
    "- To reproduce, please see dependencies in [environment file](https://github.com/UBC-MDS/Workflows_showcase/blob/main/env/env.yaml)."
   ]
  },
  {
   "cell_type": "code",
   "execution_count": null,
   "metadata": {},
   "outputs": [],
   "source": []
  }
 ],
 "metadata": {
  "kernelspec": {
   "display_name": "Python [conda env:531]",
   "language": "python",
   "name": "conda-env-531-py"
  },
  "language_info": {
   "codemirror_mode": {
    "name": "ipython",
    "version": 3
   },
   "file_extension": ".py",
   "mimetype": "text/x-python",
   "name": "python",
   "nbconvert_exporter": "python",
   "pygments_lexer": "ipython3",
   "version": "3.8.6"
  }
 },
 "nbformat": 4,
 "nbformat_minor": 4
}
